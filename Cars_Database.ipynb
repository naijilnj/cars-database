{
 "cells": [
  {
   "cell_type": "code",
   "execution_count": 1,
   "id": "83153650",
   "metadata": {},
   "outputs": [],
   "source": [
    "import psycopg2\n",
    "import pandas as pd"
   ]
  },
  {
   "cell_type": "code",
   "execution_count": 2,
   "id": "d4e8cf5a",
   "metadata": {},
   "outputs": [],
   "source": [
    "def create_database():\n",
    "    \n",
    "    try:\n",
    "        conn = psycopg2.connect('host = localhost dbname = postgres user=postgres password = naijil')\n",
    "        conn.set_session(autocommit=True)\n",
    "        cur = conn.cursor()\n",
    "    \n",
    "        cur.execute('DROP DATABASE IF EXISTS carsdatabase')                    \n",
    "        cur.execute('CREATE DATABASE carsdatabase')\n",
    "\n",
    "        conn.close()\n",
    "                        \n",
    "        conn = psycopg2.connect('host = localhost dbname = carsdatabase user=postgres password = naijil')\n",
    "        cur = conn.cursor()\n",
    "                        \n",
    "        return cur, conn\n",
    "\n",
    "    except psycopg2.OperationalError as e:\n",
    "        print(\"Error:\", e)"
   ]
  },
  {
   "cell_type": "code",
   "execution_count": 3,
   "id": "76ff01fd",
   "metadata": {},
   "outputs": [],
   "source": [
    "def drop_tables(cur, conn):\n",
    "    for query in drop_table_queries:\n",
    "        cur.execute(query)\n",
    "        conn.commit()"
   ]
  },
  {
   "cell_type": "code",
   "execution_count": 4,
   "id": "94106019",
   "metadata": {},
   "outputs": [],
   "source": [
    "def create_tables(cur, conn):\n",
    "    for query in drop_table_queries:\n",
    "        cur.execute(query)\n",
    "        conn.commit()"
   ]
  },
  {
   "cell_type": "code",
   "execution_count": 5,
   "id": "3f6152d3",
   "metadata": {},
   "outputs": [],
   "source": [
    "carsdetails=pd.read_csv('cars_multi.csv')"
   ]
  },
  {
   "cell_type": "code",
   "execution_count": 6,
   "id": "b8b9e89a",
   "metadata": {},
   "outputs": [],
   "source": [
    "carsdetails['horsepower'] = carsdetails['horsepower'].replace('?', 0)"
   ]
  },
  {
   "cell_type": "code",
   "execution_count": 7,
   "id": "2e6a35e9",
   "metadata": {},
   "outputs": [
    {
     "data": {
      "text/html": [
       "<div>\n",
       "<style scoped>\n",
       "    .dataframe tbody tr th:only-of-type {\n",
       "        vertical-align: middle;\n",
       "    }\n",
       "\n",
       "    .dataframe tbody tr th {\n",
       "        vertical-align: top;\n",
       "    }\n",
       "\n",
       "    .dataframe thead th {\n",
       "        text-align: right;\n",
       "    }\n",
       "</style>\n",
       "<table border=\"1\" class=\"dataframe\">\n",
       "  <thead>\n",
       "    <tr style=\"text-align: right;\">\n",
       "      <th></th>\n",
       "      <th>ID</th>\n",
       "      <th>mpg</th>\n",
       "      <th>cylinders</th>\n",
       "      <th>displacement</th>\n",
       "      <th>horsepower</th>\n",
       "      <th>weight</th>\n",
       "      <th>acceleration</th>\n",
       "      <th>model</th>\n",
       "      <th>origin</th>\n",
       "      <th>car_name</th>\n",
       "    </tr>\n",
       "  </thead>\n",
       "  <tbody>\n",
       "    <tr>\n",
       "      <th>0</th>\n",
       "      <td>1</td>\n",
       "      <td>18.0</td>\n",
       "      <td>8</td>\n",
       "      <td>307.0</td>\n",
       "      <td>130</td>\n",
       "      <td>3504</td>\n",
       "      <td>12.0</td>\n",
       "      <td>70</td>\n",
       "      <td>1</td>\n",
       "      <td>chevrolet chevelle malibu</td>\n",
       "    </tr>\n",
       "    <tr>\n",
       "      <th>1</th>\n",
       "      <td>2</td>\n",
       "      <td>15.0</td>\n",
       "      <td>8</td>\n",
       "      <td>350.0</td>\n",
       "      <td>165</td>\n",
       "      <td>3693</td>\n",
       "      <td>11.5</td>\n",
       "      <td>70</td>\n",
       "      <td>1</td>\n",
       "      <td>buick skylark 320</td>\n",
       "    </tr>\n",
       "    <tr>\n",
       "      <th>2</th>\n",
       "      <td>3</td>\n",
       "      <td>18.0</td>\n",
       "      <td>8</td>\n",
       "      <td>318.0</td>\n",
       "      <td>150</td>\n",
       "      <td>3436</td>\n",
       "      <td>11.0</td>\n",
       "      <td>70</td>\n",
       "      <td>1</td>\n",
       "      <td>plymouth satellite</td>\n",
       "    </tr>\n",
       "    <tr>\n",
       "      <th>3</th>\n",
       "      <td>4</td>\n",
       "      <td>16.0</td>\n",
       "      <td>8</td>\n",
       "      <td>304.0</td>\n",
       "      <td>150</td>\n",
       "      <td>3433</td>\n",
       "      <td>12.0</td>\n",
       "      <td>70</td>\n",
       "      <td>1</td>\n",
       "      <td>amc rebel sst</td>\n",
       "    </tr>\n",
       "    <tr>\n",
       "      <th>4</th>\n",
       "      <td>5</td>\n",
       "      <td>17.0</td>\n",
       "      <td>8</td>\n",
       "      <td>302.0</td>\n",
       "      <td>140</td>\n",
       "      <td>3449</td>\n",
       "      <td>10.5</td>\n",
       "      <td>70</td>\n",
       "      <td>1</td>\n",
       "      <td>ford torino</td>\n",
       "    </tr>\n",
       "  </tbody>\n",
       "</table>\n",
       "</div>"
      ],
      "text/plain": [
       "   ID   mpg  cylinders  displacement horsepower  weight  acceleration  model  \\\n",
       "0   1  18.0          8         307.0        130    3504          12.0     70   \n",
       "1   2  15.0          8         350.0        165    3693          11.5     70   \n",
       "2   3  18.0          8         318.0        150    3436          11.0     70   \n",
       "3   4  16.0          8         304.0        150    3433          12.0     70   \n",
       "4   5  17.0          8         302.0        140    3449          10.5     70   \n",
       "\n",
       "   origin                   car_name  \n",
       "0       1  chevrolet chevelle malibu  \n",
       "1       1          buick skylark 320  \n",
       "2       1         plymouth satellite  \n",
       "3       1              amc rebel sst  \n",
       "4       1                ford torino  "
      ]
     },
     "execution_count": 7,
     "metadata": {},
     "output_type": "execute_result"
    }
   ],
   "source": [
    "carsdetails.head()"
   ]
  },
  {
   "cell_type": "code",
   "execution_count": 8,
   "id": "c601c906",
   "metadata": {},
   "outputs": [],
   "source": [
    "carscountry=pd.read_csv('cars_country.csv')"
   ]
  },
  {
   "cell_type": "code",
   "execution_count": 9,
   "id": "d9f9c332",
   "metadata": {},
   "outputs": [
    {
     "data": {
      "text/html": [
       "<div>\n",
       "<style scoped>\n",
       "    .dataframe tbody tr th:only-of-type {\n",
       "        vertical-align: middle;\n",
       "    }\n",
       "\n",
       "    .dataframe tbody tr th {\n",
       "        vertical-align: top;\n",
       "    }\n",
       "\n",
       "    .dataframe thead th {\n",
       "        text-align: right;\n",
       "    }\n",
       "</style>\n",
       "<table border=\"1\" class=\"dataframe\">\n",
       "  <thead>\n",
       "    <tr style=\"text-align: right;\">\n",
       "      <th></th>\n",
       "      <th>origin</th>\n",
       "      <th>country</th>\n",
       "    </tr>\n",
       "  </thead>\n",
       "  <tbody>\n",
       "    <tr>\n",
       "      <th>0</th>\n",
       "      <td>1</td>\n",
       "      <td>USA</td>\n",
       "    </tr>\n",
       "    <tr>\n",
       "      <th>1</th>\n",
       "      <td>2</td>\n",
       "      <td>Europe</td>\n",
       "    </tr>\n",
       "    <tr>\n",
       "      <th>2</th>\n",
       "      <td>3</td>\n",
       "      <td>Japan</td>\n",
       "    </tr>\n",
       "  </tbody>\n",
       "</table>\n",
       "</div>"
      ],
      "text/plain": [
       "   origin country\n",
       "0       1     USA\n",
       "1       2  Europe\n",
       "2       3   Japan"
      ]
     },
     "execution_count": 9,
     "metadata": {},
     "output_type": "execute_result"
    }
   ],
   "source": [
    "carscountry"
   ]
  },
  {
   "cell_type": "code",
   "execution_count": 20,
   "id": "dab4eaa3",
   "metadata": {},
   "outputs": [],
   "source": [
    "carsprice=pd.read_csv('cars_price.csv')"
   ]
  },
  {
   "cell_type": "code",
   "execution_count": 21,
   "id": "41a0c2e7",
   "metadata": {},
   "outputs": [
    {
     "data": {
      "text/html": [
       "<div>\n",
       "<style scoped>\n",
       "    .dataframe tbody tr th:only-of-type {\n",
       "        vertical-align: middle;\n",
       "    }\n",
       "\n",
       "    .dataframe tbody tr th {\n",
       "        vertical-align: top;\n",
       "    }\n",
       "\n",
       "    .dataframe thead th {\n",
       "        text-align: right;\n",
       "    }\n",
       "</style>\n",
       "<table border=\"1\" class=\"dataframe\">\n",
       "  <thead>\n",
       "    <tr style=\"text-align: right;\">\n",
       "      <th></th>\n",
       "      <th>ID</th>\n",
       "      <th>price</th>\n",
       "    </tr>\n",
       "  </thead>\n",
       "  <tbody>\n",
       "    <tr>\n",
       "      <th>0</th>\n",
       "      <td>1</td>\n",
       "      <td>25561.59078</td>\n",
       "    </tr>\n",
       "    <tr>\n",
       "      <th>1</th>\n",
       "      <td>2</td>\n",
       "      <td>24221.42273</td>\n",
       "    </tr>\n",
       "    <tr>\n",
       "      <th>2</th>\n",
       "      <td>3</td>\n",
       "      <td>27240.84373</td>\n",
       "    </tr>\n",
       "    <tr>\n",
       "      <th>3</th>\n",
       "      <td>4</td>\n",
       "      <td>33684.96888</td>\n",
       "    </tr>\n",
       "    <tr>\n",
       "      <th>4</th>\n",
       "      <td>5</td>\n",
       "      <td>20000.00000</td>\n",
       "    </tr>\n",
       "  </tbody>\n",
       "</table>\n",
       "</div>"
      ],
      "text/plain": [
       "   ID        price\n",
       "0   1  25561.59078\n",
       "1   2  24221.42273\n",
       "2   3  27240.84373\n",
       "3   4  33684.96888\n",
       "4   5  20000.00000"
      ]
     },
     "execution_count": 21,
     "metadata": {},
     "output_type": "execute_result"
    }
   ],
   "source": [
    "carsprice.head()"
   ]
  },
  {
   "cell_type": "code",
   "execution_count": 22,
   "id": "356d5b79",
   "metadata": {},
   "outputs": [],
   "source": [
    "carsprice['price'] = carsprice['price'].round(2)"
   ]
  },
  {
   "cell_type": "code",
   "execution_count": 23,
   "id": "f76fb89e",
   "metadata": {},
   "outputs": [
    {
     "data": {
      "text/html": [
       "<div>\n",
       "<style scoped>\n",
       "    .dataframe tbody tr th:only-of-type {\n",
       "        vertical-align: middle;\n",
       "    }\n",
       "\n",
       "    .dataframe tbody tr th {\n",
       "        vertical-align: top;\n",
       "    }\n",
       "\n",
       "    .dataframe thead th {\n",
       "        text-align: right;\n",
       "    }\n",
       "</style>\n",
       "<table border=\"1\" class=\"dataframe\">\n",
       "  <thead>\n",
       "    <tr style=\"text-align: right;\">\n",
       "      <th></th>\n",
       "      <th>ID</th>\n",
       "      <th>price</th>\n",
       "    </tr>\n",
       "  </thead>\n",
       "  <tbody>\n",
       "    <tr>\n",
       "      <th>0</th>\n",
       "      <td>1</td>\n",
       "      <td>25561.59</td>\n",
       "    </tr>\n",
       "    <tr>\n",
       "      <th>1</th>\n",
       "      <td>2</td>\n",
       "      <td>24221.42</td>\n",
       "    </tr>\n",
       "    <tr>\n",
       "      <th>2</th>\n",
       "      <td>3</td>\n",
       "      <td>27240.84</td>\n",
       "    </tr>\n",
       "    <tr>\n",
       "      <th>3</th>\n",
       "      <td>4</td>\n",
       "      <td>33684.97</td>\n",
       "    </tr>\n",
       "    <tr>\n",
       "      <th>4</th>\n",
       "      <td>5</td>\n",
       "      <td>20000.00</td>\n",
       "    </tr>\n",
       "  </tbody>\n",
       "</table>\n",
       "</div>"
      ],
      "text/plain": [
       "   ID     price\n",
       "0   1  25561.59\n",
       "1   2  24221.42\n",
       "2   3  27240.84\n",
       "3   4  33684.97\n",
       "4   5  20000.00"
      ]
     },
     "execution_count": 23,
     "metadata": {},
     "output_type": "execute_result"
    }
   ],
   "source": [
    "carsprice.head()"
   ]
  },
  {
   "cell_type": "code",
   "execution_count": 24,
   "id": "c950c7c4",
   "metadata": {},
   "outputs": [],
   "source": [
    "cur, conn = create_database()"
   ]
  },
  {
   "cell_type": "code",
   "execution_count": 25,
   "id": "d90b9e0e",
   "metadata": {},
   "outputs": [],
   "source": [
    "cdetails_table_create = (\"\"\"CREATE TABLE carsdetails(\n",
    "id INT PRIMARY KEY,\n",
    "mpg INT,\n",
    "cylinders INT,\n",
    "displacement INT,\n",
    "horsepower INT,\n",
    "weight INT,\n",
    "acceleratiion INT,\n",
    "model INT,\n",
    "origin INT,\n",
    "car_name VARCHAR)\"\"\")"
   ]
  },
  {
   "cell_type": "code",
   "execution_count": 26,
   "id": "d00f8b52",
   "metadata": {},
   "outputs": [],
   "source": [
    "cur.execute(cdetails_table_create)\n",
    "conn.commit()"
   ]
  },
  {
   "cell_type": "code",
   "execution_count": 27,
   "id": "dcff619f",
   "metadata": {},
   "outputs": [],
   "source": [
    "ccountry_table_create = (\"\"\"CREATE TABLE carscountry(\n",
    "origin INT,\n",
    "country VARCHAR\n",
    ")\"\"\")"
   ]
  },
  {
   "cell_type": "code",
   "execution_count": 28,
   "id": "fb2063ac",
   "metadata": {},
   "outputs": [],
   "source": [
    "cur.execute(ccountry_table_create)\n",
    "conn.commit()"
   ]
  },
  {
   "cell_type": "code",
   "execution_count": 29,
   "id": "72b146d1",
   "metadata": {},
   "outputs": [],
   "source": [
    "cprice_table_create = (\"\"\"CREATE TABLE carsprice(\n",
    "id INT,\n",
    "price INT\n",
    ")\"\"\")"
   ]
  },
  {
   "cell_type": "code",
   "execution_count": 30,
   "id": "e5655201",
   "metadata": {},
   "outputs": [],
   "source": [
    "cur.execute(cprice_table_create)\n",
    "conn.commit()"
   ]
  },
  {
   "cell_type": "code",
   "execution_count": 31,
   "id": "e0f9abeb",
   "metadata": {},
   "outputs": [],
   "source": [
    "carsdetails_table_insert = (\"\"\"INSERT INTO carsdetails(\n",
    "id,\n",
    "mpg,\n",
    "cylinders,\n",
    "displacement,\n",
    "horsepower,\n",
    "weight,\n",
    "acceleratiion,\n",
    "model,\n",
    "origin,\n",
    "car_name)\n",
    "VALUES (%s, %s, %s, %s, %s, %s, %s, %s, %s, %s)\n",
    "\"\"\")"
   ]
  },
  {
   "cell_type": "code",
   "execution_count": 32,
   "id": "44e5e7b8",
   "metadata": {},
   "outputs": [],
   "source": [
    "for i, row in carsdetails.iterrows():\n",
    "    cur.execute(carsdetails_table_insert, list(row))"
   ]
  },
  {
   "cell_type": "code",
   "execution_count": 33,
   "id": "87f748f3",
   "metadata": {},
   "outputs": [],
   "source": [
    "conn.commit()"
   ]
  },
  {
   "cell_type": "code",
   "execution_count": 34,
   "id": "97f1e7e0",
   "metadata": {},
   "outputs": [],
   "source": [
    "carscountry_table_insert = (\"\"\"INSERT INTO carscountry(\n",
    "origin,\n",
    "country)\n",
    "VALUES (%s, %s)\n",
    "\"\"\")"
   ]
  },
  {
   "cell_type": "code",
   "execution_count": 35,
   "id": "ff1adf39",
   "metadata": {},
   "outputs": [],
   "source": [
    "for i, row in carscountry.iterrows():\n",
    "    cur.execute(carscountry_table_insert, list(row))\n",
    "    \n",
    "conn.commit()"
   ]
  },
  {
   "cell_type": "code",
   "execution_count": 36,
   "id": "a362dfd6",
   "metadata": {},
   "outputs": [],
   "source": [
    "carsprice_table_insert = (\"\"\"INSERT INTO carsprice(\n",
    "id,\n",
    "price)\n",
    "VALUES (%s, %s)\n",
    "\"\"\")"
   ]
  },
  {
   "cell_type": "code",
   "execution_count": 37,
   "id": "28a4ce75",
   "metadata": {},
   "outputs": [],
   "source": [
    "for i, row in carsprice.iterrows():\n",
    "    cur.execute(carsprice_table_insert, list(row))\n",
    "    \n",
    "conn.commit()"
   ]
  },
  {
   "cell_type": "code",
   "execution_count": null,
   "id": "5e75fc47",
   "metadata": {},
   "outputs": [],
   "source": []
  }
 ],
 "metadata": {
  "kernelspec": {
   "display_name": "Python 3 (ipykernel)",
   "language": "python",
   "name": "python3"
  },
  "language_info": {
   "codemirror_mode": {
    "name": "ipython",
    "version": 3
   },
   "file_extension": ".py",
   "mimetype": "text/x-python",
   "name": "python",
   "nbconvert_exporter": "python",
   "pygments_lexer": "ipython3",
   "version": "3.10.11"
  }
 },
 "nbformat": 4,
 "nbformat_minor": 5
}
